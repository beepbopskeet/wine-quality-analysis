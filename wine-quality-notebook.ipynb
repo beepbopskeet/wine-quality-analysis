{
 "cells": [
  {
   "cell_type": "markdown",
   "id": "3646bbd4",
   "metadata": {
    "papermill": {
     "duration": 0.005154,
     "end_time": "2025-07-15T20:50:54.302029",
     "exception": false,
     "start_time": "2025-07-15T20:50:54.296875",
     "status": "completed"
    },
    "tags": []
   },
   "source": [
    "# **TABLE OF CONTENTS**\n",
    "\n",
    "1- Import Libraries\n",
    "\n",
    "2- Load and Preview Data\n",
    "\n",
    "3- Data Cleaning\n",
    "\n",
    "4- Exploratory Data Analysis (EDA)\n"
   ]
  },
  {
   "cell_type": "markdown",
   "id": "916eb14c",
   "metadata": {
    "papermill": {
     "duration": 0.003441,
     "end_time": "2025-07-15T20:50:54.310158",
     "exception": false,
     "start_time": "2025-07-15T20:50:54.306717",
     "status": "completed"
    },
    "tags": []
   },
   "source": [
    "# 1. Import Libraries\n",
    "\n",
    "**pandas (pd):** This is the main library for working with datasets. It helps you read CSV files, create tables (DataFrames), and manipulate data.\n",
    "\n",
    "**numpy (np):** This handles numerical operations. It works with arrays, performs math functions, and supports fast calculations behind the scenes.\n",
    "\n",
    "**matplotlib.pyplot (plt):** A basic plotting library. It's great for creating line charts, bar plots, scatter plots, etc.\n",
    "\n",
    "**seaborn (sns):** Built on top of matplotlib, this library makes statistical plots look prettier and easier to create "
   ]
  },
  {
   "cell_type": "code",
   "execution_count": 1,
   "id": "2fe407e6",
   "metadata": {
    "execution": {
     "iopub.execute_input": "2025-07-15T20:50:54.318777Z",
     "iopub.status.busy": "2025-07-15T20:50:54.318353Z",
     "iopub.status.idle": "2025-07-15T20:50:58.172572Z",
     "shell.execute_reply": "2025-07-15T20:50:58.170844Z"
    },
    "papermill": {
     "duration": 3.860136,
     "end_time": "2025-07-15T20:50:58.174010",
     "exception": true,
     "start_time": "2025-07-15T20:50:54.313874",
     "status": "failed"
    },
    "tags": []
   },
   "outputs": [
    {
     "ename": "NameError",
     "evalue": "name 'df' is not defined",
     "output_type": "error",
     "traceback": [
      "\u001b[0;31m---------------------------------------------------------------------------\u001b[0m",
      "\u001b[0;31mNameError\u001b[0m                                 Traceback (most recent call last)",
      "\u001b[0;32m/tmp/ipykernel_13/1856624578.py\u001b[0m in \u001b[0;36m<cell line: 0>\u001b[0;34m()\u001b[0m\n\u001b[1;32m     12\u001b[0m \u001b[0;31m#Set Seaborn style for better-looking plots\u001b[0m\u001b[0;34m\u001b[0m\u001b[0;34m\u001b[0m\u001b[0m\n\u001b[1;32m     13\u001b[0m \u001b[0msns\u001b[0m\u001b[0;34m.\u001b[0m\u001b[0mset\u001b[0m\u001b[0;34m(\u001b[0m\u001b[0mstyle\u001b[0m\u001b[0;34m=\u001b[0m\u001b[0;34m\"darkgrid\"\u001b[0m\u001b[0;34m)\u001b[0m\u001b[0;34m\u001b[0m\u001b[0;34m\u001b[0m\u001b[0m\n\u001b[0;32m---> 14\u001b[0;31m \u001b[0mdf\u001b[0m\u001b[0;34m.\u001b[0m\u001b[0mdescribe\u001b[0m\u001b[0;34m(\u001b[0m\u001b[0;34m)\u001b[0m\u001b[0;34m\u001b[0m\u001b[0;34m\u001b[0m\u001b[0m\n\u001b[0m",
      "\u001b[0;31mNameError\u001b[0m: name 'df' is not defined"
     ]
    }
   ],
   "source": [
    "#Import necessary libraries for data analysis and visualization\n",
    "import numpy as np\n",
    "import pandas as pd\n",
    "import matplotlib.pyplot as plt\n",
    "import seaborn as sns\n",
    "\n",
    "\n",
    "\n",
    "#Suppress unnecessary warnings\n",
    "import warnings\n",
    "warnings.filterwarnings(\"ignore\")\n",
    "#Set Seaborn style for better-looking plots\n",
    "sns.set(style=\"darkgrid\")\n",
    "df.describe()\n"
   ]
  },
  {
   "cell_type": "markdown",
   "id": "c91dfaa0",
   "metadata": {
    "papermill": {
     "duration": null,
     "end_time": null,
     "exception": null,
     "start_time": null,
     "status": "pending"
    },
    "tags": []
   },
   "source": [
    "# 2. Load and Preview Data\n"
   ]
  },
  {
   "cell_type": "code",
   "execution_count": null,
   "id": "3ba1017f",
   "metadata": {
    "execution": {
     "iopub.execute_input": "2025-07-15T11:57:15.731969Z",
     "iopub.status.busy": "2025-07-15T11:57:15.731685Z",
     "iopub.status.idle": "2025-07-15T11:57:15.783891Z",
     "shell.execute_reply": "2025-07-15T11:57:15.782832Z",
     "shell.execute_reply.started": "2025-07-15T11:57:15.731949Z"
    },
    "papermill": {
     "duration": null,
     "end_time": null,
     "exception": null,
     "start_time": null,
     "status": "pending"
    },
    "tags": []
   },
   "outputs": [],
   "source": [
    "df = pd.read_csv('/kaggle/input/wine-quality-dataset/WineQT.csv')\n",
    "print(\"\\n 👉First 5 rows👈:\")\n",
    "print(df.head())\n",
    "print(\"\\n 👉Last 5 rows👈:\")\n",
    "print(df.tail())\n",
    "\n",
    "print(\"\\n ✨Column names✨:\")\n",
    "print(df.columns.tolist())\n",
    "print(\"\\n 🛎️Dataset info🛎️:\")\n",
    "print(df.info())\n",
    "print(\"\\n 🚨Missing values per column🚨:\")\n",
    "print(df.isnull().sum())\n"
   ]
  },
  {
   "cell_type": "markdown",
   "id": "bba96942",
   "metadata": {
    "papermill": {
     "duration": null,
     "end_time": null,
     "exception": null,
     "start_time": null,
     "status": "pending"
    },
    "tags": []
   },
   "source": [
    "# 3. Data Cleaning\n",
    "In this data cleaning step, you're performing duplicate detection and removal, which is a fundamental part of cleaning any dataset. "
   ]
  },
  {
   "cell_type": "code",
   "execution_count": null,
   "id": "0f114688",
   "metadata": {
    "execution": {
     "iopub.execute_input": "2025-07-15T11:57:15.785356Z",
     "iopub.status.busy": "2025-07-15T11:57:15.785010Z",
     "iopub.status.idle": "2025-07-15T11:57:15.796917Z",
     "shell.execute_reply": "2025-07-15T11:57:15.796023Z",
     "shell.execute_reply.started": "2025-07-15T11:57:15.785325Z"
    },
    "papermill": {
     "duration": null,
     "end_time": null,
     "exception": null,
     "start_time": null,
     "status": "pending"
    },
    "tags": []
   },
   "outputs": [],
   "source": [
    "# Check duplicates\n",
    "print(\"Duplicates:\", df.duplicated().sum())\n",
    "\n",
    "# Remove duplicates\n",
    "df = df.drop_duplicates()\n",
    "print(\"New shape:\", df.shape)"
   ]
  },
  {
   "cell_type": "markdown",
   "id": "0999c2e9",
   "metadata": {
    "papermill": {
     "duration": null,
     "end_time": null,
     "exception": null,
     "start_time": null,
     "status": "pending"
    },
    "tags": []
   },
   "source": [
    "Summary of Data Cleaning Steps:\n",
    "\n",
    "✔️ Identified the number of duplicate records within the dataset.\n",
    "\n",
    "✔️ Removed duplicate entries to prevent redundancy and potential data distortion.\n",
    "\n",
    "✔️ Verified the updated dataset size to ensure the effectiveness of the cleaning process."
   ]
  },
  {
   "cell_type": "markdown",
   "id": "117d1f81",
   "metadata": {
    "papermill": {
     "duration": null,
     "end_time": null,
     "exception": null,
     "start_time": null,
     "status": "pending"
    },
    "tags": []
   },
   "source": [
    "# 4. Exploratory Data Analysis (EDA)\n",
    "**A) Correlation Heatmap** : This visualization illustrates the strength of relationships between variables in the dataset by using colors to represent correlation coefficients. The correlation values range from -1 to 1, where:\n",
    "\n",
    "-> -1 indicates a perfect negative correlation, meaning as one variable increases, the other decreases.\n",
    "\n",
    "-> 0 signifies no correlation, indicating no linear relationship between the variables.\n",
    "\n",
    "-> 1 represents a perfect positive correlation, where both variables increase together proportionally.\n",
    "\n",
    "\n"
   ]
  },
  {
   "cell_type": "code",
   "execution_count": null,
   "id": "cc57f12c",
   "metadata": {
    "execution": {
     "iopub.execute_input": "2025-07-15T11:57:15.799673Z",
     "iopub.status.busy": "2025-07-15T11:57:15.799179Z",
     "iopub.status.idle": "2025-07-15T11:57:16.570471Z",
     "shell.execute_reply": "2025-07-15T11:57:16.569545Z",
     "shell.execute_reply.started": "2025-07-15T11:57:15.799648Z"
    },
    "papermill": {
     "duration": null,
     "end_time": null,
     "exception": null,
     "start_time": null,
     "status": "pending"
    },
    "tags": []
   },
   "outputs": [],
   "source": [
    "plt.figure(figsize=(12, 8))\n",
    "sns.heatmap(df.corr(), annot=True, cmap=\"RdPu\", fmt=\".2f\")\n",
    "plt.title(\"Correlation Heatmap\")\n",
    "plt.show()"
   ]
  },
  {
   "cell_type": "markdown",
   "id": "c93ed974",
   "metadata": {
    "papermill": {
     "duration": null,
     "end_time": null,
     "exception": null,
     "start_time": null,
     "status": "pending"
    },
    "tags": []
   },
   "source": [
    "**B)Feature Distributions (Histograms)**: Display the frequency of data values within specified intervals for numerical variables. This visualization is a fundamental tool to analyze data distribution, detect imbalances, and identify outliers."
   ]
  },
  {
   "cell_type": "code",
   "execution_count": null,
   "id": "55e89edf",
   "metadata": {
    "execution": {
     "iopub.execute_input": "2025-07-15T11:57:16.572092Z",
     "iopub.status.busy": "2025-07-15T11:57:16.571821Z",
     "iopub.status.idle": "2025-07-15T11:57:19.274338Z",
     "shell.execute_reply": "2025-07-15T11:57:19.273557Z",
     "shell.execute_reply.started": "2025-07-15T11:57:16.572072Z"
    },
    "papermill": {
     "duration": null,
     "end_time": null,
     "exception": null,
     "start_time": null,
     "status": "pending"
    },
    "tags": []
   },
   "outputs": [],
   "source": [
    "df.hist(bins=15, figsize=(15, 10), color='#ffb6c1')\n",
    "plt.suptitle(\"Feature Distributions\")\n",
    "plt.show()"
   ]
  },
  {
   "cell_type": "markdown",
   "id": "d92efe7e",
   "metadata": {
    "papermill": {
     "duration": null,
     "end_time": null,
     "exception": null,
     "start_time": null,
     "status": "pending"
    },
    "tags": []
   },
   "source": [
    "**C)Boxplot (Outlier Detection)**: Generates boxplots for each numerical feature to show data spread and detect outliers. The boxes represent the main range of the data while points outside the boxes indicate possible outliers. The plot helps to quickly identify unusual values across features."
   ]
  },
  {
   "cell_type": "code",
   "execution_count": null,
   "id": "80fb1942",
   "metadata": {
    "execution": {
     "iopub.execute_input": "2025-07-15T11:57:19.275859Z",
     "iopub.status.busy": "2025-07-15T11:57:19.275515Z",
     "iopub.status.idle": "2025-07-15T11:57:21.651025Z",
     "shell.execute_reply": "2025-07-15T11:57:21.650232Z",
     "shell.execute_reply.started": "2025-07-15T11:57:19.275831Z"
    },
    "papermill": {
     "duration": null,
     "end_time": null,
     "exception": null,
     "start_time": null,
     "status": "pending"
    },
    "tags": []
   },
   "outputs": [],
   "source": [
    "for col in df.select_dtypes(include='number').columns:\n",
    "    plt.figure(figsize=(6, 4))\n",
    "    sns.boxplot(x=df[col], color='pink')\n",
    "    plt.title(f\"Boxplot of {col}\")\n",
    "    plt.show()"
   ]
  },
  {
   "cell_type": "markdown",
   "id": "12a9ae4f",
   "metadata": {
    "papermill": {
     "duration": null,
     "end_time": null,
     "exception": null,
     "start_time": null,
     "status": "pending"
    },
    "tags": []
   },
   "source": [
    "**D) Quality Distribution**: Shows how often each quality score appears in the dataset.\n",
    "It helps us understand the class balance by counting how many samples exist for each quality value.\n",
    "This is useful before building a model especially for classification tasks.\n",
    "\n",
    "\n",
    "\n",
    "\n",
    "\n",
    "\n",
    "\n"
   ]
  },
  {
   "cell_type": "code",
   "execution_count": null,
   "id": "a889a59d",
   "metadata": {
    "execution": {
     "iopub.execute_input": "2025-07-15T11:57:21.652288Z",
     "iopub.status.busy": "2025-07-15T11:57:21.652010Z",
     "iopub.status.idle": "2025-07-15T11:57:21.856151Z",
     "shell.execute_reply": "2025-07-15T11:57:21.855016Z",
     "shell.execute_reply.started": "2025-07-15T11:57:21.652268Z"
    },
    "papermill": {
     "duration": null,
     "end_time": null,
     "exception": null,
     "start_time": null,
     "status": "pending"
    },
    "tags": []
   },
   "outputs": [],
   "source": [
    "sweet_pink_palette = ['#ffe6f0', '#ffcce0', '#ffb6c1', '#ff99c8', '#ff66b2', '#ff3385', '#ff1a75']\n",
    "sns.countplot(x=\"quality\", data=df, palette=sweet_pink_palette)\n",
    "plt.title(\"Wine Quality Distribution\")\n",
    "plt.show()"
   ]
  },
  {
   "cell_type": "markdown",
   "id": "8718745c",
   "metadata": {
    "papermill": {
     "duration": null,
     "end_time": null,
     "exception": null,
     "start_time": null,
     "status": "pending"
    },
    "tags": []
   },
   "source": [
    "**E) Pairplot:**  Visualize pairwise relationships between multiple numerical features. This helps us observe patterns, groupings, and possible correlations between features, especially when colored by wine quality.\n",
    "It is useful for identifying clusters or separations that may help in classification tasks."
   ]
  },
  {
   "cell_type": "code",
   "execution_count": null,
   "id": "a7242c3f",
   "metadata": {
    "execution": {
     "iopub.execute_input": "2025-07-15T11:57:21.857291Z",
     "iopub.status.busy": "2025-07-15T11:57:21.857041Z",
     "iopub.status.idle": "2025-07-15T11:57:26.457157Z",
     "shell.execute_reply": "2025-07-15T11:57:26.456030Z",
     "shell.execute_reply.started": "2025-07-15T11:57:21.857272Z"
    },
    "papermill": {
     "duration": null,
     "end_time": null,
     "exception": null,
     "start_time": null,
     "status": "pending"
    },
    "tags": []
   },
   "outputs": [],
   "source": [
    "selected_features = ['alcohol', 'pH', 'sulphates', 'citric acid', 'quality']\n",
    "\n",
    "sns.pairplot(df[selected_features], hue='quality', palette= 'pastel' , corner=True)\n",
    "plt.suptitle(\"Pairplot of Key Features Colored\", y=1.02)\n",
    "plt.show()"
   ]
  },
  {
   "cell_type": "markdown",
   "id": "89e13390",
   "metadata": {
    "papermill": {
     "duration": null,
     "end_time": null,
     "exception": null,
     "start_time": null,
     "status": "pending"
    },
    "tags": []
   },
   "source": [
    "**F)  Scatterplot**:  Shows the relationship between alcohol content and sulphates, colored by wine quality score.\n",
    "We can observe that wines with higher alcohol and sulphates tend to have higher quality, while lower-quality wines are mostly clustered in the lower left.\n",
    "This suggests a positive association between these features and wine quality."
   ]
  },
  {
   "cell_type": "code",
   "execution_count": null,
   "id": "cc96adac",
   "metadata": {
    "execution": {
     "iopub.execute_input": "2025-07-15T11:57:26.458862Z",
     "iopub.status.busy": "2025-07-15T11:57:26.458508Z",
     "iopub.status.idle": "2025-07-15T11:57:26.997843Z",
     "shell.execute_reply": "2025-07-15T11:57:26.996765Z",
     "shell.execute_reply.started": "2025-07-15T11:57:26.458837Z"
    },
    "papermill": {
     "duration": null,
     "end_time": null,
     "exception": null,
     "start_time": null,
     "status": "pending"
    },
    "tags": []
   },
   "outputs": [],
   "source": [
    "plt.figure(figsize=(8, 6))\n",
    "sns.scatterplot(data=df, x='alcohol', y='sulphates', hue='quality', palette='pastel', s=70)\n",
    "plt.title(\"Alcohol vs Sulphates by Wine Quality\", fontsize=14)\n",
    "plt.xlabel(\"Alcohol (%)\")\n",
    "plt.ylabel(\"Sulphates (g/L)\")\n",
    "plt.legend(title=\"Wine Quality\")\n",
    "plt.show()"
   ]
  },
  {
   "cell_type": "code",
   "execution_count": null,
   "id": "50c67641",
   "metadata": {
    "execution": {
     "iopub.execute_input": "2025-07-15T11:57:27.000242Z",
     "iopub.status.busy": "2025-07-15T11:57:26.999954Z",
     "iopub.status.idle": "2025-07-15T11:57:30.998489Z",
     "shell.execute_reply": "2025-07-15T11:57:30.997631Z",
     "shell.execute_reply.started": "2025-07-15T11:57:27.000219Z"
    },
    "papermill": {
     "duration": null,
     "end_time": null,
     "exception": null,
     "start_time": null,
     "status": "pending"
    },
    "tags": []
   },
   "outputs": [],
   "source": [
    "columns = df.columns\n",
    "fig, ax = plt.subplots(4, 4, figsize=(16, 15))\n",
    "ax = ax.flatten()\n",
    "\n",
    "for i, column in enumerate(columns):\n",
    "    sns.kdeplot(\n",
    "        data=df,\n",
    "        x=column,\n",
    "        hue='quality',\n",
    "        ax=ax[i]\n",
    "    )\n",
    "\n",
    "for j in range(i + 1, len(ax)):\n",
    "    fig.delaxes(ax[j])\n",
    "\n",
    "plt.tight_layout()\n",
    "plt.show()"
   ]
  }
 ],
 "metadata": {
  "kaggle": {
   "accelerator": "none",
   "dataSources": [
    {
     "datasetId": 1866301,
     "sourceId": 3047725,
     "sourceType": "datasetVersion"
    }
   ],
   "dockerImageVersionId": 31089,
   "isGpuEnabled": false,
   "isInternetEnabled": false,
   "language": "python",
   "sourceType": "notebook"
  },
  "kernelspec": {
   "display_name": "Python 3",
   "language": "python",
   "name": "python3"
  },
  "language_info": {
   "codemirror_mode": {
    "name": "ipython",
    "version": 3
   },
   "file_extension": ".py",
   "mimetype": "text/x-python",
   "name": "python",
   "nbconvert_exporter": "python",
   "pygments_lexer": "ipython3",
   "version": "3.11.13"
  },
  "papermill": {
   "default_parameters": {},
   "duration": 10.141482,
   "end_time": "2025-07-15T20:50:58.797123",
   "environment_variables": {},
   "exception": true,
   "input_path": "__notebook__.ipynb",
   "output_path": "__notebook__.ipynb",
   "parameters": {},
   "start_time": "2025-07-15T20:50:48.655641",
   "version": "2.6.0"
  }
 },
 "nbformat": 4,
 "nbformat_minor": 5
}
